{
 "cells": [
  {
   "cell_type": "markdown",
   "metadata": {},
   "source": [
    "# Machine Learning"
   ]
  },
  {
   "cell_type": "markdown",
   "metadata": {},
   "source": [
    "### 1. Regression"
   ]
  },
  {
   "cell_type": "markdown",
   "metadata": {},
   "source": [
    "Regression is used to predict continous value using some other variables. It has two types of variables: \n",
    "                        1. Dependent Vaiable (represented by Y)\n",
    "                        2. Independent Variable (represented by X)\n",
    "Our regression model relates Y, or the dependent variable to a function of X. There are basically two types of regression:\n",
    "                        1. Simple regression (When we have single dependent variable)\n",
    "                        2. Multiple regression\n",
    "Model Evaluation:-\n",
    "    1. Training and testing on same dataset.\n",
    "    2. Train/Test split -> Training on a section of dataset and testing on the leftover data.\n",
    "    3. K-fold cross validation -> Applying Train/Test split in different folds.\n",
    "    \n"
   ]
  },
  {
   "cell_type": "markdown",
   "metadata": {},
   "source": [
    "![Model Accuracy](dataset/error.png)"
   ]
  },
  {
   "cell_type": "markdown",
   "metadata": {},
   "source": [
    "### i. Simple Linear Regression"
   ]
  },
  {
   "cell_type": "code",
   "execution_count": 34,
   "metadata": {},
   "outputs": [
    {
     "data": {
      "image/png": "[encoded data removed]",
      "text/plain": [
       "<Figure size 432x288 with 1 Axes>"
      ]
     },
     "metadata": {
      "needs_background": "light"
     },
     "output_type": "display_data"
    },
    {
     "data": {
      "image/png": "[encoded data removed]",
      "text/plain": [
       "<Figure size 432x288 with 1 Axes>"
      ]
     },
     "metadata": {
      "needs_background": "light"
     },
     "output_type": "display_data"
    }
   ],
   "source": [
    "import matplotlib.pyplot as plt\n",
    "import pandas as pd\n",
    "import numpy as np\n",
    "import pylab as pl\n",
    "\n",
    "df= pd.read_csv(\"dataset/FuelConsumptionCo2.csv\")\n",
    "\n",
    "cdf = df[['ENGINESIZE','CYLINDERS','FUELCONSUMPTION_COMB','CO2EMISSIONS']]\n",
    "\n",
    "# plt.scatter(cdf.ENGINESIZE, cdf.CO2EMISSIONS,  color='blue')\n",
    "# plt.xlabel(\"NO of Cylinders\")\n",
    "# plt.ylabel(\"Emission\")\n",
    "# plt.show()\n",
    "\n",
    "msk = np.random.rand(len(df)) < 0.8\n",
    "train = cdf[msk]\n",
    "test = cdf[~msk]\n",
    "\n",
    "# plt.scatter(train.ENGINESIZE, train.CO2EMISSIONS,  color='blue')\n",
    "# plt.xlabel(\"Engine size\")\n",
    "# plt.ylabel(\"Emission\")\n",
    "# plt.show()"
   ]
  },
  {
   "cell_type": "code",
   "execution_count": 2,
   "metadata": {},
   "outputs": [
    {
     "name": "stdout",
     "output_type": "stream",
     "text": [
      "Coefficients:  [[38.76442748]]\n",
      "Intercept:  [125.66433706]\n",
      "Mean absolute error: 23.63\n",
      "Residual sum of squares (MSE): 954.81\n"
     ]
    }
   ],
   "source": [
    "from sklearn import linear_model\n",
    "import matplotlib.pyplot as plt\n",
    "import pandas as pd\n",
    "import numpy as np\n",
    "import pylab as pl\n",
    "\n",
    "df= pd.read_csv(\"dataset/FuelConsumptionCo2.csv\")\n",
    "\n",
    "cdf = df[['ENGINESIZE','CYLINDERS','FUELCONSUMPTION_COMB','CO2EMISSIONS']]\n",
    "\n",
    "msk = np.random.rand(len(df)) < 0.8\n",
    "train = cdf[msk]\n",
    "test = cdf[~msk]\n",
    "\n",
    "regr = linear_model.LinearRegression()\n",
    "\n",
    "train_x = np.asanyarray(train[['ENGINESIZE']])\n",
    "train_y = np.asanyarray(train[['CO2EMISSIONS']])\n",
    "\n",
    "regr.fit(train_x, train_y)\n",
    "\n",
    "print('Coefficients: ',regr.coef_)\n",
    "print('Intercept: ', regr.intercept_)\n",
    "\n",
    "plt.scatter(train.ENGINESIZE, train.CO2EMISSIONS,  color='blue')\n",
    "plt.plot(train_x, regr.coef_*train_x + regr.intercept_, '-r')\n",
    "plt.xlabel(\"Engine size\")\n",
    "plt.ylabel(\"Emission\")\n",
    "\n",
    "test_x = np.asanyarray(test[['ENGINESIZE']])\n",
    "test_y = np.asanyarray(test[['CO2EMISSIONS']])\n",
    "test_y_hat = regr.predict(test_x)\n",
    "\n",
    "print(\"Mean absolute error: %.2f\" % np.mean(np.absolute(test_y_hat - test_y)))\n",
    "print(\"Residual sum of squares (MSE): %.2f\" % np.mean((test_y_hat - test_y) ** 2))\n"
   ]
  },
  {
   "cell_type": "markdown",
   "metadata": {},
   "source": [
    "### ii. Multiple Linear Regression"
   ]
  },
  {
   "cell_type": "code",
   "execution_count": 26,
   "metadata": {},
   "outputs": [
    {
     "name": "stdout",
     "output_type": "stream",
     "text": [
      "coefficient:  [[11.01735295  7.11394528  6.29940676  2.69541291]]\n",
      "intercepts:  [68.47633203]\n",
      "mean square error:  562.8983578256053\n",
      "Variance score:  0.8712586642338218\n"
     ]
    }
   ],
   "source": [
    "import matplotlib.pyplot as plt\n",
    "import numpy as np\n",
    "import pandas as pd\n",
    "from sklearn import linear_model\n",
    "\n",
    "df = pd.read_csv(\"dataset/FuelConsumptionCo2.csv\")\n",
    "\n",
    "# df.head()\n",
    "\n",
    "cdf = df[['ENGINESIZE','CYLINDERS', 'FUELCONSUMPTION_CITY', 'FUELCONSUMPTION_HWY', 'CO2EMISSIONS']]\n",
    "\n",
    "\n",
    "#create a train and test subset of main dataset\n",
    "msk = np.random.rand(len(df)) < 0.8\n",
    "train = cdf[msk]\n",
    "test = cdf[~msk]\n",
    "\n",
    "mulregr = linear_model.LinearRegression()\n",
    "\n",
    "# create train x and train y from train subset\n",
    "train_x = np.asanyarray(train[['ENGINESIZE','CYLINDERS', 'FUELCONSUMPTION_CITY', 'FUELCONSUMPTION_HWY']])\n",
    "train_y = np.asanyarray(train[['CO2EMISSIONS']])\n",
    "\n",
    "mulregr.fit(train_x,train_y)\n",
    "\n",
    "print(\"coefficient: \", mulregr.coef_)\n",
    "print(\"intercepts: \", mulregr.intercept_)\n",
    "\n",
    "# for testing purpose\n",
    "\n",
    "test_x = np.asanyarray(test[['ENGINESIZE','CYLINDERS', 'FUELCONSUMPTION_CITY', 'FUELCONSUMPTION_HWY']])\n",
    "test_y = np.asanyarray(test[['CO2EMISSIONS']])\n",
    "test_y_cap = mulregr.predict(test_x)\n",
    "\n",
    "print(\"mean square error: \", np.mean((test_y_cap - test_y)**2))\n",
    "print('Variance score: ', mulregr.score(test_x,test_y))\n"
   ]
  },
  {
   "cell_type": "markdown",
   "metadata": {},
   "source": [
    "### iii. Non Linear Regression"
   ]
  },
  {
   "cell_type": "markdown",
   "metadata": {},
   "source": [
    "#### 1. Polynomial Regression"
   ]
  },
  {
   "cell_type": "code",
   "execution_count": 38,
   "metadata": {},
   "outputs": [
    {
     "name": "stdout",
     "output_type": "stream",
     "text": [
      "Coefficient:  [[ 0.         31.18108436  3.51194393 -0.4054648 ]]\n",
      "intercept:  [129.98006458]\n",
      "Variance score:  0.7823594679346654\n",
      "mean square error:  922.3287519729147\n"
     ]
    }
   ],
   "source": [
    "import matplotlib.pyplot as plt\n",
    "import numpy as np\n",
    "import pandas as pd\n",
    "from sklearn import linear_model\n",
    "from sklearn.preprocessing import PolynomialFeatures\n",
    "\n",
    "df = pd.read_csv('./dataset/FuelConsumptionCo2.csv')\n",
    "\n",
    "cdf = df[['ENGINESIZE','CO2EMISSIONS']]\n",
    "\n",
    "msk = np.random.rand(len(df)) < 0.8\n",
    "train = cdf[msk]\n",
    "test = cdf[~msk]\n",
    "\n",
    "train_x = np.asanyarray(train[['ENGINESIZE']])\n",
    "train_y = np.asanyarray(train[['CO2EMISSIONS']])\n",
    "\n",
    "poly = PolynomialFeatures(degree=3)\n",
    "\n",
    "train_x_poly = poly.fit_transform(train_x)\n",
    "\n",
    "polyregr = linear_model.LinearRegression()\n",
    "\n",
    "polyregr.fit(train_x_poly,train_y)\n",
    "\n",
    "print(\"Coefficient: \", polyregr.coef_)\n",
    "print(\"intercept: \", polyregr.intercept_)\n",
    "\n",
    "#testing part\n",
    "\n",
    "test_x = np.asanyarray(test[['ENGINESIZE']])\n",
    "test_y = np.asanyarray(test[['CO2EMISSIONS']])\n",
    "\n",
    "test_x_poly = poly.fit_transform(test_x)\n",
    "\n",
    "test_y_cap = polyregr.predict(test_x_poly)\n",
    "\n",
    "#mean square error\n",
    "print('Variance score: ', polyregr.score(test_x_poly,test_y))\n",
    "print('mean square error: ', np.mean((test_y_cap - test_y) **2))"
   ]
  },
  {
   "cell_type": "markdown",
   "metadata": {},
   "source": [
    "#### 2. Non Linear Regression"
   ]
  },
  {
   "cell_type": "code",
   "execution_count": 15,
   "metadata": {},
   "outputs": [
    {
     "data": {
      "text/plain": [
       "[<matplotlib.lines.Line2D at 0x1cc47ebf8d0>]"
      ]
     },
     "execution_count": 15,
     "metadata": {},
     "output_type": "execute_result"
    },
    {
     "data": {
      "image/png": "[encoded data removed]",
      "text/plain": [
       "<Figure size 432x288 with 1 Axes>"
      ]
     },
     "metadata": {
      "needs_background": "light"
     },
     "output_type": "display_data"
    }
   ],
   "source": [
    "# Various non linear plots\n",
    "\n",
    "import numpy as np\n",
    "import matplotlib.pyplot as plt\n",
    "x = np.arange(-5.0, 5.0, 0.1)\n",
    "\n",
    "# y = np.power(x,2)\n",
    "# y = np.exp(x)\n",
    "# y = np.log(x)\n",
    "y = 1-4/(1+np.power(3, x-2))\n",
    "\n",
    "plt.plot(x,y,'r')"
   ]
  },
  {
   "cell_type": "code",
   "execution_count": 83,
   "metadata": {},
   "outputs": [
    {
     "name": "stdout",
     "output_type": "stream",
     "text": [
      "408.85667982655997 0.9875441063236878\n",
      "Mean square error:-  2.0650891808937657e+24\n"
     ]
    },
    {
     "data": {
      "image/png": "[encoded data removed]",
      "text/plain": [
       "<Figure size 432x288 with 1 Axes>"
      ]
     },
     "metadata": {
      "needs_background": "light"
     },
     "output_type": "display_data"
    }
   ],
   "source": [
    "import pandas as pd\n",
    "import numpy as np\n",
    "import matplotlib.pyplot as plt\n",
    "from scipy.optimize import curve_fit\n",
    "\n",
    "df = pd.read_csv('./dataset/china_gdp.csv')\n",
    "\n",
    "#This graph looks like a sigmoid graph\n",
    "\n",
    "def sigmoid(x, beta_1, beta_2):\n",
    "    graph = 1/(1 + np.exp( -beta_1*(x - beta_2)))\n",
    "    return graph\n",
    "\n",
    "x = np.linspace(1960, 2015, 55)\n",
    "x = x/max(x)\n",
    "\n",
    "y = sigmoid(x, )\n",
    "\n",
    "msk = np.random.rand(len(df)) < 0.8\n",
    "train = df[msk]\n",
    "test = df[~msk]\n",
    "\n",
    "train_x ="
   ]
  },
  {
   "cell_type": "markdown",
   "metadata": {},
   "source": [
    "### 2.Classification"
   ]
  },
  {
   "cell_type": "markdown",
   "metadata": {},
   "source": [
    "Classification referres to categorizing some unknown items into a discrete set of categories or classes.\n",
    "It includes following types of algorithim:- \n",
    "    1. K-Nearest Neighbor\n",
    "    2. SVM (Support Vector Machine)\n",
    "    3. Neural Network\n",
    "    4. Decision Tree\n",
    "    5. Logistic Regression"
   ]
  },
  {
   "cell_type": "markdown",
   "metadata": {},
   "source": [
    "### K-Nearest Neighbor\n",
    "     Gives alternate method to create train and test set "
   ]
  },
  {
   "cell_type": "code",
   "execution_count": 58,
   "metadata": {},
   "outputs": [
    {
     "name": "stdout",
     "output_type": "stream",
     "text": [
      "[0.3   0.29  0.315 0.32  0.315 0.31  0.335 0.325 0.34 ]\n",
      "The best accuracy was with 0.34 with k= 9\n"
     ]
    },
    {
     "name": "stderr",
     "output_type": "stream",
     "text": [
      "C:\\Users\\Lakshay\\Anaconda3\\lib\\site-packages\\ipykernel_launcher.py:32: DataConversionWarning: A column-vector y was passed when a 1d array was expected. Please change the shape of y to (n_samples, ), for example using ravel().\n",
      "C:\\Users\\Lakshay\\Anaconda3\\lib\\site-packages\\ipykernel_launcher.py:50: DataConversionWarning: A column-vector y was passed when a 1d array was expected. Please change the shape of y to (n_samples, ), for example using ravel().\n",
      "C:\\Users\\Lakshay\\Anaconda3\\lib\\site-packages\\ipykernel_launcher.py:50: DataConversionWarning: A column-vector y was passed when a 1d array was expected. Please change the shape of y to (n_samples, ), for example using ravel().\n",
      "C:\\Users\\Lakshay\\Anaconda3\\lib\\site-packages\\ipykernel_launcher.py:50: DataConversionWarning: A column-vector y was passed when a 1d array was expected. Please change the shape of y to (n_samples, ), for example using ravel().\n",
      "C:\\Users\\Lakshay\\Anaconda3\\lib\\site-packages\\ipykernel_launcher.py:50: DataConversionWarning: A column-vector y was passed when a 1d array was expected. Please change the shape of y to (n_samples, ), for example using ravel().\n",
      "C:\\Users\\Lakshay\\Anaconda3\\lib\\site-packages\\ipykernel_launcher.py:50: DataConversionWarning: A column-vector y was passed when a 1d array was expected. Please change the shape of y to (n_samples, ), for example using ravel().\n",
      "C:\\Users\\Lakshay\\Anaconda3\\lib\\site-packages\\ipykernel_launcher.py:50: DataConversionWarning: A column-vector y was passed when a 1d array was expected. Please change the shape of y to (n_samples, ), for example using ravel().\n",
      "C:\\Users\\Lakshay\\Anaconda3\\lib\\site-packages\\ipykernel_launcher.py:50: DataConversionWarning: A column-vector y was passed when a 1d array was expected. Please change the shape of y to (n_samples, ), for example using ravel().\n",
      "C:\\Users\\Lakshay\\Anaconda3\\lib\\site-packages\\ipykernel_launcher.py:50: DataConversionWarning: A column-vector y was passed when a 1d array was expected. Please change the shape of y to (n_samples, ), for example using ravel().\n",
      "C:\\Users\\Lakshay\\Anaconda3\\lib\\site-packages\\ipykernel_launcher.py:50: DataConversionWarning: A column-vector y was passed when a 1d array was expected. Please change the shape of y to (n_samples, ), for example using ravel().\n"
     ]
    }
   ],
   "source": [
    "import itertools \n",
    "import numpy as np\n",
    "import pandas as pd\n",
    "import matplotlib.pyplot as plt\n",
    "from sklearn import preprocessing\n",
    "from matplotlib.ticker import NullFormatter\n",
    "import matplotlib.ticker as ticker\n",
    "\n",
    "df = pd.read_csv('dataset/teleCust1000t.csv')\n",
    "\n",
    "df['custcat'].value_counts() #use this to know the frequency \n",
    "\n",
    "X = df[['region', 'tenure', 'age', 'marital', 'address', 'income', 'ed',\n",
    "       'employ', 'retire', 'gender', 'reside']].values\n",
    "\n",
    "y = df[['custcat']].values\n",
    "\n",
    "# Normalize the data\n",
    "X = preprocessing.StandardScaler().fit(X).transform(X.astype(float))\n",
    "\n",
    "#Alternate method for making train and test sample set -------------------------------------------------------------------\n",
    "\n",
    "from sklearn.model_selection import train_test_split\n",
    "X_train, X_test, y_train, y_test = train_test_split(X, y, test_size=0.2,random_state = 4)\n",
    "# print('Train set: ',X_train.shape, y_train.shape)\n",
    "# print('Test set: ',X_test.shape, y_test.shape)\n",
    "\n",
    "#-------------------------------------------------------------------------------------------------------------------------\n",
    "\n",
    "from sklearn.neighbors import KNeighborsClassifier  \n",
    "k =4\n",
    "neigh = KNeighborsClassifier(n_neighbors = k).fit(X_train,y_train)\n",
    "\n",
    "yhat = neigh.predict(X_test)\n",
    "\n",
    "#-------------------------------------------------------------------------------------------------------------------------\n",
    "#In multilabel classification, accuracy classification score is a function that computes subset accuracy. This function is equal to the jaccard_similarity_score function. Essentially, it calculates how closely the actual labels and predicted labels are matched in the test set.\n",
    "\n",
    "from sklearn import metrics\n",
    "# print('train set accuracy: ', metrics.accuracy_score(y_train, neigh.predict(X_train)))\n",
    "# print('test set accuracy: ', metrics.accuracy_score(y_test, neigh.predict(X_test)))\n",
    "\n",
    "\n",
    "#To check the appropriate value of k use this method\n",
    "\n",
    "ks = 10\n",
    "mean_acc = np.zeros((ks-1))\n",
    "ConfusionMx = [];\n",
    "for n in range(1,ks):\n",
    "    neigh = KNeighborsClassifier(n_neighbors = n).fit(X_train, y_train)\n",
    "    yhat = neigh.predict(X_test)\n",
    "    mean_acc[n-1] = metrics.accuracy_score(y_test, yhat)\n",
    "\n",
    "print(mean_acc)\n",
    "print( \"The best accuracy was with\", mean_acc.max(), \"with k=\", mean_acc.argmax()+1) \n"
   ]
  },
  {
   "cell_type": "markdown",
   "metadata": {},
   "source": [
    "### Decision Tree\n",
    "     Also provides a method to convert categorical data to numeric data"
   ]
  },
  {
   "cell_type": "code",
   "execution_count": 66,
   "metadata": {},
   "outputs": [
    {
     "name": "stdout",
     "output_type": "stream",
     "text": [
      "DecisionTree Accuracy:  0.9833333333333333\n"
     ]
    }
   ],
   "source": [
    "import pandas as pd\n",
    "import numpy as np\n",
    "from sklearn.tree import DecisionTreeClassifier\n",
    "\n",
    "df = pd.read_csv('dataset/drug200.csv')\n",
    "\n",
    "df\n",
    "\n",
    "X = df[['Age','Sex', 'BP', 'Cholesterol', 'Na_to_K']].values\n",
    "\n",
    "# As Sex, BP and Cholestrol have categorical values therfore we need to convert them into numerical values\n",
    "from sklearn import preprocessing \n",
    "\n",
    "le_sex = preprocessing.LabelEncoder()\n",
    "le_sex.fit(['F', 'M'])\n",
    "X[:,1] = le_sex.transform(X[:,1])\n",
    "\n",
    "le_bp = preprocessing.LabelEncoder()\n",
    "le_bp.fit(['LOW', 'NORMAL', 'HIGH'])\n",
    "X[:,2] = le_bp.transform(X[:,2])\n",
    "\n",
    "le_cho = preprocessing.LabelEncoder()\n",
    "le_cho.fit(['NORMAL','HIGH'])\n",
    "X[:,3] = le_cho.transform(X[:,3])\n",
    "\n",
    "X[0:5]\n",
    "\n",
    "y = df[['Drug']]\n",
    "\n",
    "#-------------------------------------------------------------------------------------------------------------------------\n",
    "#Train and Test Set Formation\n",
    "\n",
    "from sklearn.model_selection import train_test_split\n",
    "X_train, X_test, y_train, y_test = train_test_split(X, y, test_size=0.3, random_state = 3)\n",
    "\n",
    "#-------------------------------------------------------------------------------------------------------------------------\n",
    "#Now its time for decision tree formation\n",
    "\n",
    "drugTree = DecisionTreeClassifier(criterion = 'entropy', max_depth = 4).fit(X_train,y_train)\n",
    "yhat = drugTree.predict(X_test)\n",
    "\n",
    "#-------------------------------------------------------------------------------------------------------------------------\n",
    "#Evaluation\n",
    "\n",
    "from sklearn import metrics\n",
    "import matplotlib.pyplot as plt\n",
    "print('DecisionTree Accuracy: ', metrics.accuracy_score(y_test, yhat))\n"
   ]
  },
  {
   "cell_type": "markdown",
   "metadata": {},
   "source": [
    "### Support Vector Machine (SVM)\n",
    "     Also to convert some obj data to numeric"
   ]
  },
  {
   "cell_type": "code",
   "execution_count": 23,
   "metadata": {},
   "outputs": [
    {
     "name": "stderr",
     "output_type": "stream",
     "text": [
      "C:\\Users\\Lakshay\\Anaconda3\\lib\\site-packages\\sklearn\\utils\\validation.py:761: DataConversionWarning: A column-vector y was passed when a 1d array was expected. Please change the shape of y to (n_samples, ), for example using ravel().\n",
      "  y = column_or_1d(y, warn=True)\n",
      "C:\\Users\\Lakshay\\Anaconda3\\lib\\site-packages\\sklearn\\svm\\base.py:196: FutureWarning: The default value of gamma will change from 'auto' to 'scale' in version 0.22 to account better for unscaled features. Set gamma explicitly to 'auto' or 'scale' to avoid this warning.\n",
      "  \"avoid this warning.\", FutureWarning)\n"
     ]
    },
    {
     "name": "stdout",
     "output_type": "stream",
     "text": [
      "SVM accuracy:  0.9635036496350365\n",
      "SVM jaccard test:  0.9635036496350365\n",
      "F1 score:  0.9639038982104676\n",
      "              precision    recall  f1-score   support\n",
      "\n",
      "           2       1.00      0.94      0.97        90\n",
      "           4       0.90      1.00      0.95        47\n",
      "\n",
      "   micro avg       0.96      0.96      0.96       137\n",
      "   macro avg       0.95      0.97      0.96       137\n",
      "weighted avg       0.97      0.96      0.96       137\n",
      "\n",
      "Confusion matrix, without normalization\n",
      "[[85  5]\n",
      " [ 0 47]]\n"
     ]
    },
    {
     "data": {
      "image/png": "[encoded data removed]",
      "text/plain": [
       "<Figure size 432x288 with 2 Axes>"
      ]
     },
     "metadata": {
      "needs_background": "light"
     },
     "output_type": "display_data"
    }
   ],
   "source": [
    "import matplotlib.pyplot as plt\n",
    "import numpy as np\n",
    "import pandas as pd\n",
    "import pylab as pl\n",
    "import scipy.optimize as opt\n",
    "from sklearn import preprocessing\n",
    "from sklearn.model_selection import train_test_split\n",
    "\n",
    "# step1 load the data\n",
    "df = pd.read_csv('dataset/cell_samples.csv')\n",
    "df = df[pd.to_numeric(df['BareNuc'],errors = 'coerce').notnull()]\n",
    "df['BareNuc'] = df['BareNuc'].astype('int')\n",
    "\n",
    "#Step2 Convert the data into array format\n",
    "X = df[['Clump','UnifSize','UnifShape','MargAdh','SingEpiSize','BareNuc','BlandChrom','NormNucl','Mit']].values\n",
    "y = df[['Class']].values\n",
    "\n",
    "#step3 Make train and Test Dataset\n",
    "X_train, X_test, y_train, y_test = train_test_split(X, y, test_size=0.2, random_state=4 )\n",
    "X_train.shape\n",
    "y_train.shape\n",
    "\n",
    "#step4 Modeling\n",
    "from sklearn import svm\n",
    "svmachine = svm.SVC(kernel = 'rbf') #other option for kernel includes linear, polynomial, sigmoid\n",
    "svmachine.fit(X_train,y_train)\n",
    "\n",
    "yhat = svmachine.predict(X_test)\n",
    "\n",
    "#step5 Evaluation\n",
    "from sklearn.metrics import jaccard_similarity_score\n",
    "from sklearn import metrics\n",
    "from sklearn.metrics import f1_score \n",
    "print('SVM accuracy: ', metrics.accuracy_score(y_test, yhat))\n",
    "print('SVM jaccard test: ',jaccard_similarity_score(y_test, yhat))\n",
    "print('F1 score: ',f1_score(y_test, yhat, average='weighted'))\n",
    "\n",
    "#Miscellaneous\n",
    "from sklearn.metrics import classification_report, confusion_matrix\n",
    "import itertools\n",
    "\n",
    "# Compute confusion matrix\n",
    "cnf_matrix = confusion_matrix(y_test, yhat, labels=[2,4])\n",
    "np.set_printoptions(precision=2)\n",
    "\n",
    "print (classification_report(y_test, yhat))\n",
    "\n",
    "# Plot non-normalized confusion matrix\n",
    "plt.figure()\n",
    "plot_confusion_matrix(cnf_matrix, classes=['Benign(2)','Malignant(4)'],normalize= False,  title='Confusion matrix')\n",
    "\n",
    "                 "
   ]
  },
  {
   "cell_type": "markdown",
   "metadata": {},
   "source": [
    "### Logistic Regression"
   ]
  },
  {
   "cell_type": "code",
   "execution_count": null,
   "metadata": {},
   "outputs": [],
   "source": []
  }
 ],
 "metadata": {
  "kernelspec": {
   "display_name": "Python 3",
   "language": "python",
   "name": "python3"
  },
  "language_info": {
   "codemirror_mode": {
    "name": "ipython",
    "version": 3
   },
   "file_extension": ".py",
   "mimetype": "text/x-python",
   "name": "python",
   "nbconvert_exporter": "python",
   "pygments_lexer": "ipython3",
   "version": "3.7.1"
  }
 },
 "nbformat": 4,
 "nbformat_minor": 2
}
